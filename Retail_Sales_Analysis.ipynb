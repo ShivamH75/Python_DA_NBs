{
 "cells": [
  {
   "cell_type": "markdown",
   "id": "425a7260-f02e-4681-858f-6a6a011c6a2b",
   "metadata": {},
   "source": [
    "### Step 0: Installation and Library Import:\n",
    "To ensure the proper functionality of the code, it's essential to install and import the required libraries."
   ]
  },
  {
   "cell_type": "code",
   "execution_count": 1,
   "id": "d2d48366-4d37-42bf-b3b7-9017f2809f2c",
   "metadata": {},
   "outputs": [
    {
     "name": "stdout",
     "output_type": "stream",
     "text": [
      "Requirement already satisfied: numpy in c:\\users\\f51p2\\appdata\\local\\programs\\python\\python312\\lib\\site-packages (1.26.4)\n"
     ]
    }
   ],
   "source": [
    "# Installation: Use the following command to install the necessary libraries using pip\n",
    "# in jupyter notebooks, use ! before pip command.\n",
    "\n",
    "!pip install numpy -U"
   ]
  },
  {
   "cell_type": "code",
   "execution_count": 2,
   "id": "0979edbb",
   "metadata": {},
   "outputs": [],
   "source": [
    "# Import: In your Python script or notebook, import the installed libraries using the import statement\n",
    "''' \n",
    "NumPy is a fundamental library for scientific computing with Python. \n",
    "It provides support for arrays and matrices, along with mathematical functions to operate on these arrays. \n",
    "NumPy is widely used for numerical computations and data manipulation, particularly in tasks involving large datasets or mathematical operations.\n",
    "'''\n",
    "import numpy as np \n",
    "\n",
    "''' \n",
    "Pandas is a popular library for data manipulation and analysis. \n",
    "It provides data structures like DataFrame and Series, which are powerful tools for handling and organizing data. \n",
    "Pandas is frequently used for data cleaning, transformation, and exploration, making it an essential library for data science and analysis tasks\n",
    "'''\n",
    "import pandas as pd \n",
    "\n",
    "'''\n",
    "Matplotlib is a versatile library for creating static, animated, or interactive visualizations in Python. \n",
    "The pyplot module within Matplotlib is commonly used for creating various types of plots, charts, and graphs. \n",
    "It's an excellent choice for data visualization and presentation of your analysis results.\n",
    "'''\n",
    "import matplotlib.pyplot as plt\n",
    "\n",
    "'''\n",
    "The %matplotlib inline command is a Jupyter Notebook-specific magic command. \n",
    "It ensures that the Matplotlib plots are displayed directly in the notebook rather than in separate windows.\n",
    "'''\n",
    "%matplotlib inline\n",
    "\n",
    "'''\n",
    "Seaborn is a data visualization library built on top of Matplotlib. \n",
    "It simplifies the creation of informative and attractive statistical graphics. \n",
    "Seaborn offers a high-level interface for drawing attractive and informative statistical graphics.\n",
    "It's particularly useful for tasks like creating aesthetically pleasing statistical plots.\n",
    "'''\n",
    "import seaborn as sns"
   ]
  },
  {
   "cell_type": "markdown",
   "id": "4b21c1aa-ebe0-4c0f-a727-0564cb2dd92c",
   "metadata": {},
   "source": [
    "## Part 1: Data Cleaning"
   ]
  },
  {
   "cell_type": "code",
   "execution_count": 3,
   "id": "7fbfb436",
   "metadata": {},
   "outputs": [],
   "source": [
    "# import csv file\n",
    "# creating dataframe by importing the csv file using pandas 'read_csv' function.\n",
    "df = pd.read_csv('retail_sales_dataset.csv', encoding= 'unicode_escape')"
   ]
  },
  {
   "cell_type": "code",
   "execution_count": 4,
   "id": "b8db4a5b",
   "metadata": {},
   "outputs": [
    {
     "name": "stdout",
     "output_type": "stream",
     "text": [
      "No. of Rows = 1000\n",
      "No. of Columns = 9\n"
     ]
    }
   ],
   "source": [
    "# dataframe shape: give tuple of Rows x Columns count.\n",
    "count_rows, count_columns = df.shape\n",
    "\n",
    "# Printing with message\n",
    "print(f\"No. of Rows = {count_rows}\")\n",
    "print(f\"No. of Columns = {count_columns}\")"
   ]
  },
  {
   "cell_type": "code",
   "execution_count": null,
   "id": "662c471c",
   "metadata": {},
   "outputs": [],
   "source": [
    "# dataframe head: return data from first 5 rows.\n",
    "df.head()"
   ]
  },
  {
   "cell_type": "code",
   "execution_count": null,
   "id": "b72b024c-e606-4595-82cb-ef184e6fb0d0",
   "metadata": {},
   "outputs": [],
   "source": [
    "# Create a new column and initialize with default values\n",
    "df['Age_Group'] = ''\n",
    "\n",
    "# Apply condition and update values in the new column\n",
    "df.loc[df['Age'] <= 18, 'Age_Group'] = '0 - 18'\n",
    "df.loc[(df['Age'] > 18) & (df['Age'] <= 30), 'Age_Group'] = '18 - 30'\n",
    "df.loc[(df['Age'] > 30) & (df['Age'] <= 45), 'Age_Group'] = '30 - 45'\n",
    "df.loc[(df['Age'] > 45) & (df['Age'] <= 60), 'Age_Group'] = '45 - 60'\n",
    "df.loc[(df['Age'] > 60), 'Age_Group'] = '60+'\n",
    "\n",
    "# Print the DataFrame to verify the changes\n",
    "print(df.head())"
   ]
  },
  {
   "cell_type": "code",
   "execution_count": null,
   "id": "c33ba2d7-2f09-4936-a5b7-476cf1aa7b69",
   "metadata": {},
   "outputs": [],
   "source": [
    "# dataframe tail: return data from last 5 rows.\n",
    "df.tail()"
   ]
  },
  {
   "cell_type": "code",
   "execution_count": null,
   "id": "99bacc85-cbac-41aa-8c75-41d3f2c25531",
   "metadata": {},
   "outputs": [],
   "source": [
    "# display data of in-between rows.\n",
    "df.head(3).tail(5)"
   ]
  },
  {
   "cell_type": "code",
   "execution_count": null,
   "id": "0814c45b",
   "metadata": {},
   "outputs": [],
   "source": [
    "# dataframe info: show the schema of the table columns.\n",
    "# helpful to show the null value count in some columns.\n",
    "df.info()"
   ]
  },
  {
   "cell_type": "code",
   "execution_count": null,
   "id": "29afa95b",
   "metadata": {},
   "outputs": [],
   "source": [
    "#drop unrelated/blank columns\n",
    "# 'axis = 1' means whole column.\n",
    "# 'inplace = True' means changes takes place from here. otherwise same data will appear in next output.\n",
    "\n",
    "df.drop(['Customer ID'], axis=1, inplace=True)"
   ]
  },
  {
   "cell_type": "code",
   "execution_count": null,
   "id": "5cee58eb",
   "metadata": {},
   "outputs": [],
   "source": [
    "# pandas isnull: check presence of null values\n",
    "# sum (): return count\n",
    "pd.isnull(df).sum()"
   ]
  },
  {
   "cell_type": "code",
   "execution_count": null,
   "id": "65de74e3",
   "metadata": {},
   "outputs": [],
   "source": [
    "# dataframe dropna: drop rows containing the null values\n",
    "df.dropna(inplace=True)"
   ]
  },
  {
   "cell_type": "code",
   "execution_count": null,
   "id": "14e4ff48",
   "metadata": {},
   "outputs": [],
   "source": [
    "# dataframe astype: change data type\n",
    "df['Total Amount'] = df['Total Amount'].astype('int')    # using variable to assign changes in same entity.\n",
    "\n",
    "df['Date'] = pd.to_datetime(df['Date'])\n",
    "df['Date'] = pd.to_datetime(df['Date'], format='%d-%m-%Y')  ## Convert to datetime using pd.to_datetime()"
   ]
  },
  {
   "cell_type": "code",
   "execution_count": null,
   "id": "aa6752dc",
   "metadata": {},
   "outputs": [],
   "source": [
    "# dataframe dtypes: check the data type of the columns\n",
    "df.dtypes\n",
    "\n",
    "# df['Amount'].dtypes        # check for single column"
   ]
  },
  {
   "cell_type": "code",
   "execution_count": null,
   "id": "5f723a99",
   "metadata": {},
   "outputs": [],
   "source": [
    "# dataframe columns: return the names of all columns\n",
    "df.columns"
   ]
  },
  {
   "cell_type": "code",
   "execution_count": null,
   "id": "a85bb3c3",
   "metadata": {},
   "outputs": [],
   "source": [
    "# dataframe rename: rename column. pass the dictionary of previous and new value.\n",
    "df.rename(columns= {'Product Category':'product_category'}, inplace =  True)"
   ]
  },
  {
   "cell_type": "code",
   "execution_count": null,
   "id": "a2484863",
   "metadata": {},
   "outputs": [],
   "source": [
    "# dataframe describe: returns statistical description of the data in the DataFrame (i.e. count, mean, std, etc)\n",
    "\n",
    "df.describe()        # for a all the column"
   ]
  },
  {
   "cell_type": "code",
   "execution_count": null,
   "id": "2c380030",
   "metadata": {},
   "outputs": [],
   "source": [
    "# use describe() for specific columns\n",
    "# df[['Age', 'Orders', 'Amount']].describe()"
   ]
  },
  {
   "cell_type": "markdown",
   "id": "cc649558",
   "metadata": {},
   "source": [
    "## PART 2: Exploratory Data Analysis"
   ]
  },
  {
   "cell_type": "markdown",
   "id": "504b419c",
   "metadata": {},
   "source": [
    "### Gender"
   ]
  },
  {
   "cell_type": "code",
   "execution_count": 5,
   "id": "84c7918d",
   "metadata": {},
   "outputs": [
    {
     "data": {
      "text/plain": [
       "Text(0, 0.5, 'Numer of People')"
      ]
     },
     "execution_count": 5,
     "metadata": {},
     "output_type": "execute_result"
    },
    {
     "data": {
      "image/png": "[encoded data removed]",
      "text/plain": [
       "<Figure size 640x480 with 1 Axes>"
      ]
     },
     "metadata": {},
     "output_type": "display_data"
    }
   ],
   "source": [
    "# plotting a bar chart for Gender and it's count\n",
    "\n",
    "ax = sns.countplot(x = 'Gender',data = df)\n",
    "# seaborn countplot: using a plot that will show the count. passing which value will be on x-axis and from where to read the data.\n",
    "\n",
    "for bars in ax.containers:\n",
    "    ax.bar_label(bars)\n",
    "# containers contains the unique values in mentioned Column. iterating the values to display their count over bars in plot.\n",
    "\n",
    "# Label the x and y axes\n",
    "ax.set_xlabel('Gender')\n",
    "ax.set_ylabel('Numer of People')"
   ]
  },
  {
   "cell_type": "code",
   "execution_count": 6,
   "id": "c5fd4566",
   "metadata": {},
   "outputs": [
    {
     "data": {
      "image/png": "[encoded data removed]",
      "text/plain": [
       "<Figure size 640x480 with 1 Axes>"
      ]
     },
     "metadata": {},
     "output_type": "display_data"
    }
   ],
   "source": [
    "# plotting a bar chart for gender vs total amount\n",
    "\n",
    "# dataframe groupby: similar concept as in SQL. \n",
    "# grouping by Gender means values in gender will be unique and 2nd column is its data against the values.\n",
    "sales_gen = df.groupby(['Gender'], as_index=False)['Total Amount'].sum().sort_values(by='Total Amount', ascending=False)\n",
    "\n",
    "# seaborn barplot: plot a bar graph. mention x and y data and data source.\n",
    "ax = sns.barplot(x = 'Gender',y= 'Total Amount' ,data = sales_gen)"
   ]
  },
  {
   "cell_type": "markdown",
   "id": "1e108cec",
   "metadata": {},
   "source": [
    "## Summary\n",
    "*From above graphs we can see that most of the buyers are females and even the purchasing power of females are greater than men*"
   ]
  },
  {
   "cell_type": "markdown",
   "id": "dcc927f9",
   "metadata": {},
   "source": [
    "### Age"
   ]
  },
  {
   "cell_type": "code",
   "execution_count": null,
   "id": "80cca61d-6329-40e2-b83c-1700a8a84052",
   "metadata": {},
   "outputs": [],
   "source": [
    "import seaborn as sns\n",
    "import matplotlib.pyplot as plt\n",
    "\n",
    "# Define the order of categories based on the count\n",
    "order = df['Age_Group'].value_counts().index\n",
    "\n",
    "# Set the figure size\n",
    "plt.figure(figsize=(20, 6))\n",
    "\n",
    "# Create the countplot with hue\n",
    "ax = sns.countplot(x='Age_Group', hue='Gender', data=df, order=order)\n",
    "\n",
    "# Add labels to the bars\n",
    "for bars in ax.containers:\n",
    "    ax.bar_label(bars)\n",
    "\n",
    "# Set x-axis label\n",
    "ax.set_xlabel('Age Group')\n",
    "\n",
    "# Set y-axis label\n",
    "ax.set_ylabel('Count')\n",
    "\n",
    "# Show the plot\n",
    "plt.show()\n"
   ]
  },
  {
   "cell_type": "code",
   "execution_count": null,
   "id": "bfbe3937",
   "metadata": {},
   "outputs": [],
   "source": [
    "# Total Amount vs Age Group\n",
    "sales_age = df.groupby(['Age_Group'], as_index=False)['Total Amount'].sum()\n",
    "sales_age = sales_age.sort_values(by = ['Total Amount', 'Age_Group'], ascending = True)\n",
    "\n",
    "sns.barplot(x = 'Age_Group', y= 'Total Amount', data = sales_age)"
   ]
  },
  {
   "cell_type": "code",
   "execution_count": null,
   "id": "dffa7cd8-e5d2-4911-b150-a9fc260dea0f",
   "metadata": {},
   "outputs": [],
   "source": [
    "## same chart as above. Using additional hue on Gender column.\n",
    "\n",
    "# Group the data by 'Age Group' and calculate the sum of 'Amount' for each group\n",
    "sales_age = df.groupby(['Age_Group', 'Gender'], as_index=False)['Total Amount'].sum()\n",
    "\n",
    "# Sort the data to display in a particular order (if needed)\n",
    "sales_age = sales_age.sort_values(by=[ 'Total Amount', 'Age_Group', 'Gender'], ascending = True)\n",
    "\n",
    "# Create the barplot with 'Age Group' on the x-axis and 'Amount' on the y-axis, using 'Gender' as hue\n",
    "sns.barplot(x='Age_Group', y='Total Amount', hue='Gender', data=sales_age)"
   ]
  },
  {
   "cell_type": "markdown",
   "id": "abaa6c07",
   "metadata": {},
   "source": [
    "*From above graphs we can see that most of the buyers are of age group between 26-35 yrs female*"
   ]
  },
  {
   "attachments": {},
   "cell_type": "markdown",
   "id": "83a49098",
   "metadata": {},
   "source": [
    "### Order Count for Product Categories"
   ]
  },
  {
   "cell_type": "code",
   "execution_count": null,
   "id": "dfac4f2c",
   "metadata": {},
   "outputs": [],
   "source": [
    "# total number of orders from the Product Categories\n",
    "\n",
    "\n",
    "''' In the context of a groupby operation in pandas, the as_index parameter is used to specify \n",
    "whether the grouping columns should become the index of the resulting DataFrame or not '''\n",
    "\n",
    "sales_state = df.groupby(['Product Category'], as_index=False)['Quantity'].sum()\n",
    "sales_state = sales_state.sort_values(by='Quantity', ascending=False).head(10)\n",
    "\n",
    "# set the width of graph. rc is run time parameter.\n",
    "sns.set(rc={'figure.figsize':(15,5)})\n",
    "\n",
    "sns.barplot(x = 'Product Category',y= 'Quantity', data = sales_state)"
   ]
  },
  {
   "cell_type": "code",
   "execution_count": null,
   "id": "c525fd2a-bf6e-4d61-8f37-279b266011bc",
   "metadata": {},
   "outputs": [],
   "source": [
    "# Create a new column to store the month names\n",
    "df['Month'] = df['Date'].dt.strftime('%B')\n",
    "\n",
    "# Print the DataFrame to verify the changes\n",
    "print(df.head())"
   ]
  },
  {
   "cell_type": "code",
   "execution_count": null,
   "id": "a66617bc",
   "metadata": {},
   "outputs": [],
   "source": [
    "# total amount/sales from top 10 states\n",
    "\n",
    "sales_state = df.groupby(['Month', 'Product Category'], as_index=False)['Total Amount'].sum()\n",
    "sales_state = sales_state.sort_values(by=['Total Amount', 'Product Category'], ascending=False)\n",
    "\n",
    "sns.set(rc={'figure.figsize':(15,5)})\n",
    "plt.title('Total Amount by Product Category per Month')\n",
    "sns.barplot(data = sales_state, x = 'Month',y= 'Total Amount', hue='Product Category')"
   ]
  },
  {
   "cell_type": "markdown",
   "id": "39d46e9e",
   "metadata": {},
   "source": [
    "*From above graphs we can see that most of the orders & total sales/amount are from Uttar Pradesh, Maharashtra and Karnataka respectively*\n"
   ]
  },
  {
   "cell_type": "markdown",
   "id": "40518579",
   "metadata": {},
   "source": [
    "### Product Category"
   ]
  },
  {
   "cell_type": "code",
   "execution_count": 8,
   "id": "3e7e4d39",
   "metadata": {},
   "outputs": [
    {
     "data": {
      "image/png": "[encoded data removed]",
      "text/plain": [
       "<Figure size 2000x500 with 1 Axes>"
      ]
     },
     "metadata": {},
     "output_type": "display_data"
    }
   ],
   "source": [
    "## count of Product Category orders.\n",
    "\n",
    "sns.set(rc={'figure.figsize':(20,5)})\n",
    "ax = sns.countplot(data = df, x = 'Product Category')\n",
    "\n",
    "for bars in ax.containers:\n",
    "    ax.bar_label(bars)"
   ]
  },
  {
   "cell_type": "code",
   "execution_count": 9,
   "id": "99f5c6f3",
   "metadata": {},
   "outputs": [
    {
     "data": {
      "text/plain": [
       "<Axes: xlabel='Product Category', ylabel='Total Amount'>"
      ]
     },
     "execution_count": 9,
     "metadata": {},
     "output_type": "execute_result"
    },
    {
     "data": {
      "image/png": "[encoded data removed]",
      "text/plain": [
       "<Figure size 2000x500 with 1 Axes>"
      ]
     },
     "metadata": {},
     "output_type": "display_data"
    }
   ],
   "source": [
    "## ## count of Product Category VS Amount.\n",
    "\n",
    "sales_state = df.groupby(['Product Category'], as_index=False)['Total Amount']\n",
    "sales_state = sales_state.sum().sort_values(by='Total Amount', ascending=False).head(10)\n",
    "\n",
    "sns.set(rc={'figure.figsize':(20,5)})\n",
    "sns.barplot(data = sales_state, x = 'Product Category',y= 'Total Amount')"
   ]
  },
  {
   "cell_type": "markdown",
   "id": "5be54973",
   "metadata": {},
   "source": [
    "*From above graphs we can see that most of the sold products are from Electronics, followed by Clothing and Beauty products.*"
   ]
  },
  {
   "cell_type": "markdown",
   "id": "31f88f63",
   "metadata": {},
   "source": [
    "### Conclusion"
   ]
  },
  {
   "cell_type": "markdown",
   "id": "56e52bca",
   "metadata": {},
   "source": [
    "*From the analyis it can be concluded that -*"
   ]
  },
  {
   "cell_type": "markdown",
   "id": "1e91055b",
   "metadata": {},
   "source": [
    "Complete project on GitHub: https://github.com/ShivamH75/Python_DA_NBs"
   ]
  },
  {
   "cell_type": "markdown",
   "id": "d7bfbc58",
   "metadata": {},
   "source": [
    "Thank you!"
   ]
  }
 ],
 "metadata": {
  "kernelspec": {
   "display_name": "Python 3 (ipykernel)",
   "language": "python",
   "name": "python3"
  },
  "language_info": {
   "codemirror_mode": {
    "name": "ipython",
    "version": 3
   },
   "file_extension": ".py",
   "mimetype": "text/x-python",
   "name": "python",
   "nbconvert_exporter": "python",
   "pygments_lexer": "ipython3",
   "version": "3.12.1"
  }
 },
 "nbformat": 4,
 "nbformat_minor": 5
}
